{
 "cells": [
  {
   "cell_type": "markdown",
   "id": "electrical-protocol",
   "metadata": {},
   "source": [
    "# Big Mart Sales Prediction\n",
    "\n",
    "The data scientists at BigMart have collected 2013 sales data for 1559 products across 10 stores in different cities. Also, certain attributes of each product and store have been defined. The aim is to build a predictive model and predict the sales of each product at a particular outlet.\n",
    "\n",
    "We have train and test data set, train data set has both input and output variable(s). We need to predict the sales for test data set. The columns in the train data set are:\n",
    "\n",
    "- Item_Identifier: Unique product ID\n",
    "- Item_Weight: Weight of product\n",
    "- Item_Fat_Content: Whether the product is low fat or not\n",
    "- Item_Visibility: The % of total display area of all products in a store allocated to the particular product\n",
    "- Item_Type: The category to which the product belongs\n",
    "- Item_MRP: Maximum Retail Price (list price) of the product\n",
    "- Outlet_Identifier: Unique store ID\n",
    "- Outlet_Establishment_Year: The year in which store was established\n",
    "- Outlet_Size: The size of the store in terms of ground area covered\n",
    "- Outlet_Location_Type: The type of city in which the store is located\n",
    "- Outlet_Type: Whether the outlet is just a grocery store or some sort of supermarket\n",
    "- Item_Outlet_Sales: Sales of the product in the particulat store. This is the outcome variable to be predicted."
   ]
  },
  {
   "cell_type": "markdown",
   "id": "physical-circumstances",
   "metadata": {},
   "source": [
    "## Imports"
   ]
  },
  {
   "cell_type": "code",
   "execution_count": 177,
   "id": "experienced-dover",
   "metadata": {},
   "outputs": [],
   "source": [
    "# The necessary imports\n",
    "import numpy as np\n",
    "import pandas as pd\n",
    "import matplotlib.pyplot as plt\n",
    "import seaborn as sns\n",
    "%matplotlib inline"
   ]
  },
  {
   "cell_type": "markdown",
   "id": "genuine-arrival",
   "metadata": {},
   "source": [
    "## The Data"
   ]
  },
  {
   "cell_type": "code",
   "execution_count": 178,
   "id": "outer-electricity",
   "metadata": {},
   "outputs": [],
   "source": [
    "sales_train_df = pd.read_csv('bigmartsalesforecast/train.csv')"
   ]
  },
  {
   "cell_type": "code",
   "execution_count": 179,
   "id": "alive-stranger",
   "metadata": {},
   "outputs": [
    {
     "data": {
      "text/html": [
       "<div>\n",
       "<style scoped>\n",
       "    .dataframe tbody tr th:only-of-type {\n",
       "        vertical-align: middle;\n",
       "    }\n",
       "\n",
       "    .dataframe tbody tr th {\n",
       "        vertical-align: top;\n",
       "    }\n",
       "\n",
       "    .dataframe thead th {\n",
       "        text-align: right;\n",
       "    }\n",
       "</style>\n",
       "<table border=\"1\" class=\"dataframe\">\n",
       "  <thead>\n",
       "    <tr style=\"text-align: right;\">\n",
       "      <th></th>\n",
       "      <th>Item_Identifier</th>\n",
       "      <th>Item_Weight</th>\n",
       "      <th>Item_Fat_Content</th>\n",
       "      <th>Item_Visibility</th>\n",
       "      <th>Item_Type</th>\n",
       "      <th>Item_MRP</th>\n",
       "      <th>Outlet_Identifier</th>\n",
       "      <th>Outlet_Establishment_Year</th>\n",
       "      <th>Outlet_Size</th>\n",
       "      <th>Outlet_Location_Type</th>\n",
       "      <th>Outlet_Type</th>\n",
       "      <th>Item_Outlet_Sales</th>\n",
       "    </tr>\n",
       "  </thead>\n",
       "  <tbody>\n",
       "    <tr>\n",
       "      <th>0</th>\n",
       "      <td>FDA15</td>\n",
       "      <td>9.30</td>\n",
       "      <td>Low Fat</td>\n",
       "      <td>0.016047</td>\n",
       "      <td>Dairy</td>\n",
       "      <td>249.8092</td>\n",
       "      <td>OUT049</td>\n",
       "      <td>1999</td>\n",
       "      <td>Medium</td>\n",
       "      <td>Tier 1</td>\n",
       "      <td>Supermarket Type1</td>\n",
       "      <td>3735.1380</td>\n",
       "    </tr>\n",
       "    <tr>\n",
       "      <th>1</th>\n",
       "      <td>DRC01</td>\n",
       "      <td>5.92</td>\n",
       "      <td>Regular</td>\n",
       "      <td>0.019278</td>\n",
       "      <td>Soft Drinks</td>\n",
       "      <td>48.2692</td>\n",
       "      <td>OUT018</td>\n",
       "      <td>2009</td>\n",
       "      <td>Medium</td>\n",
       "      <td>Tier 3</td>\n",
       "      <td>Supermarket Type2</td>\n",
       "      <td>443.4228</td>\n",
       "    </tr>\n",
       "    <tr>\n",
       "      <th>2</th>\n",
       "      <td>FDN15</td>\n",
       "      <td>17.50</td>\n",
       "      <td>Low Fat</td>\n",
       "      <td>0.016760</td>\n",
       "      <td>Meat</td>\n",
       "      <td>141.6180</td>\n",
       "      <td>OUT049</td>\n",
       "      <td>1999</td>\n",
       "      <td>Medium</td>\n",
       "      <td>Tier 1</td>\n",
       "      <td>Supermarket Type1</td>\n",
       "      <td>2097.2700</td>\n",
       "    </tr>\n",
       "    <tr>\n",
       "      <th>3</th>\n",
       "      <td>FDX07</td>\n",
       "      <td>19.20</td>\n",
       "      <td>Regular</td>\n",
       "      <td>0.000000</td>\n",
       "      <td>Fruits and Vegetables</td>\n",
       "      <td>182.0950</td>\n",
       "      <td>OUT010</td>\n",
       "      <td>1998</td>\n",
       "      <td>NaN</td>\n",
       "      <td>Tier 3</td>\n",
       "      <td>Grocery Store</td>\n",
       "      <td>732.3800</td>\n",
       "    </tr>\n",
       "    <tr>\n",
       "      <th>4</th>\n",
       "      <td>NCD19</td>\n",
       "      <td>8.93</td>\n",
       "      <td>Low Fat</td>\n",
       "      <td>0.000000</td>\n",
       "      <td>Household</td>\n",
       "      <td>53.8614</td>\n",
       "      <td>OUT013</td>\n",
       "      <td>1987</td>\n",
       "      <td>High</td>\n",
       "      <td>Tier 3</td>\n",
       "      <td>Supermarket Type1</td>\n",
       "      <td>994.7052</td>\n",
       "    </tr>\n",
       "  </tbody>\n",
       "</table>\n",
       "</div>"
      ],
      "text/plain": [
       "  Item_Identifier  Item_Weight Item_Fat_Content  Item_Visibility  \\\n",
       "0           FDA15         9.30          Low Fat         0.016047   \n",
       "1           DRC01         5.92          Regular         0.019278   \n",
       "2           FDN15        17.50          Low Fat         0.016760   \n",
       "3           FDX07        19.20          Regular         0.000000   \n",
       "4           NCD19         8.93          Low Fat         0.000000   \n",
       "\n",
       "               Item_Type  Item_MRP Outlet_Identifier  \\\n",
       "0                  Dairy  249.8092            OUT049   \n",
       "1            Soft Drinks   48.2692            OUT018   \n",
       "2                   Meat  141.6180            OUT049   \n",
       "3  Fruits and Vegetables  182.0950            OUT010   \n",
       "4              Household   53.8614            OUT013   \n",
       "\n",
       "   Outlet_Establishment_Year Outlet_Size Outlet_Location_Type  \\\n",
       "0                       1999      Medium               Tier 1   \n",
       "1                       2009      Medium               Tier 3   \n",
       "2                       1999      Medium               Tier 1   \n",
       "3                       1998         NaN               Tier 3   \n",
       "4                       1987        High               Tier 3   \n",
       "\n",
       "         Outlet_Type  Item_Outlet_Sales  \n",
       "0  Supermarket Type1          3735.1380  \n",
       "1  Supermarket Type2           443.4228  \n",
       "2  Supermarket Type1          2097.2700  \n",
       "3      Grocery Store           732.3800  \n",
       "4  Supermarket Type1           994.7052  "
      ]
     },
     "execution_count": 179,
     "metadata": {},
     "output_type": "execute_result"
    }
   ],
   "source": [
    "sales_train_df.head()"
   ]
  },
  {
   "cell_type": "code",
   "execution_count": 180,
   "id": "dynamic-theta",
   "metadata": {},
   "outputs": [
    {
     "name": "stdout",
     "output_type": "stream",
     "text": [
      "<class 'pandas.core.frame.DataFrame'>\n",
      "RangeIndex: 8522 entries, 0 to 8521\n",
      "Data columns (total 12 columns):\n",
      " #   Column                     Non-Null Count  Dtype  \n",
      "---  ------                     --------------  -----  \n",
      " 0   Item_Identifier            8522 non-null   object \n",
      " 1   Item_Weight                7059 non-null   float64\n",
      " 2   Item_Fat_Content           8522 non-null   object \n",
      " 3   Item_Visibility            8522 non-null   float64\n",
      " 4   Item_Type                  8522 non-null   object \n",
      " 5   Item_MRP                   8522 non-null   float64\n",
      " 6   Outlet_Identifier          8522 non-null   object \n",
      " 7   Outlet_Establishment_Year  8522 non-null   int64  \n",
      " 8   Outlet_Size                6112 non-null   object \n",
      " 9   Outlet_Location_Type       8522 non-null   object \n",
      " 10  Outlet_Type                8522 non-null   object \n",
      " 11  Item_Outlet_Sales          8522 non-null   float64\n",
      "dtypes: float64(4), int64(1), object(7)\n",
      "memory usage: 799.1+ KB\n"
     ]
    }
   ],
   "source": [
    "sales_train_df.info()"
   ]
  },
  {
   "cell_type": "markdown",
   "id": "collectible-supervisor",
   "metadata": {},
   "source": [
    "Let us also check the test data set."
   ]
  },
  {
   "cell_type": "code",
   "execution_count": 181,
   "id": "architectural-andorra",
   "metadata": {},
   "outputs": [],
   "source": [
    "sales_test_df = pd.read_csv('bigmartsalesforecast/test.csv')"
   ]
  },
  {
   "cell_type": "code",
   "execution_count": 182,
   "id": "decreased-billy",
   "metadata": {},
   "outputs": [
    {
     "data": {
      "text/html": [
       "<div>\n",
       "<style scoped>\n",
       "    .dataframe tbody tr th:only-of-type {\n",
       "        vertical-align: middle;\n",
       "    }\n",
       "\n",
       "    .dataframe tbody tr th {\n",
       "        vertical-align: top;\n",
       "    }\n",
       "\n",
       "    .dataframe thead th {\n",
       "        text-align: right;\n",
       "    }\n",
       "</style>\n",
       "<table border=\"1\" class=\"dataframe\">\n",
       "  <thead>\n",
       "    <tr style=\"text-align: right;\">\n",
       "      <th></th>\n",
       "      <th>Item_Identifier</th>\n",
       "      <th>Item_Weight</th>\n",
       "      <th>Item_Fat_Content</th>\n",
       "      <th>Item_Visibility</th>\n",
       "      <th>Item_Type</th>\n",
       "      <th>Item_MRP</th>\n",
       "      <th>Outlet_Identifier</th>\n",
       "      <th>Outlet_Establishment_Year</th>\n",
       "      <th>Outlet_Size</th>\n",
       "      <th>Outlet_Location_Type</th>\n",
       "      <th>Outlet_Type</th>\n",
       "    </tr>\n",
       "  </thead>\n",
       "  <tbody>\n",
       "    <tr>\n",
       "      <th>0</th>\n",
       "      <td>FDW58</td>\n",
       "      <td>20.750</td>\n",
       "      <td>Low Fat</td>\n",
       "      <td>0.007565</td>\n",
       "      <td>Snack Foods</td>\n",
       "      <td>107.8622</td>\n",
       "      <td>OUT049</td>\n",
       "      <td>1999</td>\n",
       "      <td>Medium</td>\n",
       "      <td>Tier 1</td>\n",
       "      <td>Supermarket Type1</td>\n",
       "    </tr>\n",
       "    <tr>\n",
       "      <th>1</th>\n",
       "      <td>FDW14</td>\n",
       "      <td>8.300</td>\n",
       "      <td>reg</td>\n",
       "      <td>0.038428</td>\n",
       "      <td>Dairy</td>\n",
       "      <td>87.3198</td>\n",
       "      <td>OUT017</td>\n",
       "      <td>2007</td>\n",
       "      <td>NaN</td>\n",
       "      <td>Tier 2</td>\n",
       "      <td>Supermarket Type1</td>\n",
       "    </tr>\n",
       "    <tr>\n",
       "      <th>2</th>\n",
       "      <td>NCN55</td>\n",
       "      <td>14.600</td>\n",
       "      <td>Low Fat</td>\n",
       "      <td>0.099575</td>\n",
       "      <td>Others</td>\n",
       "      <td>241.7538</td>\n",
       "      <td>OUT010</td>\n",
       "      <td>1998</td>\n",
       "      <td>NaN</td>\n",
       "      <td>Tier 3</td>\n",
       "      <td>Grocery Store</td>\n",
       "    </tr>\n",
       "    <tr>\n",
       "      <th>3</th>\n",
       "      <td>FDQ58</td>\n",
       "      <td>7.315</td>\n",
       "      <td>Low Fat</td>\n",
       "      <td>0.015388</td>\n",
       "      <td>Snack Foods</td>\n",
       "      <td>155.0340</td>\n",
       "      <td>OUT017</td>\n",
       "      <td>2007</td>\n",
       "      <td>NaN</td>\n",
       "      <td>Tier 2</td>\n",
       "      <td>Supermarket Type1</td>\n",
       "    </tr>\n",
       "    <tr>\n",
       "      <th>4</th>\n",
       "      <td>FDY38</td>\n",
       "      <td>NaN</td>\n",
       "      <td>Regular</td>\n",
       "      <td>0.118599</td>\n",
       "      <td>Dairy</td>\n",
       "      <td>234.2300</td>\n",
       "      <td>OUT027</td>\n",
       "      <td>1985</td>\n",
       "      <td>Medium</td>\n",
       "      <td>Tier 3</td>\n",
       "      <td>Supermarket Type3</td>\n",
       "    </tr>\n",
       "  </tbody>\n",
       "</table>\n",
       "</div>"
      ],
      "text/plain": [
       "  Item_Identifier  Item_Weight Item_Fat_Content  Item_Visibility    Item_Type  \\\n",
       "0           FDW58       20.750          Low Fat         0.007565  Snack Foods   \n",
       "1           FDW14        8.300              reg         0.038428        Dairy   \n",
       "2           NCN55       14.600          Low Fat         0.099575       Others   \n",
       "3           FDQ58        7.315          Low Fat         0.015388  Snack Foods   \n",
       "4           FDY38          NaN          Regular         0.118599        Dairy   \n",
       "\n",
       "   Item_MRP Outlet_Identifier  Outlet_Establishment_Year Outlet_Size  \\\n",
       "0  107.8622            OUT049                       1999      Medium   \n",
       "1   87.3198            OUT017                       2007         NaN   \n",
       "2  241.7538            OUT010                       1998         NaN   \n",
       "3  155.0340            OUT017                       2007         NaN   \n",
       "4  234.2300            OUT027                       1985      Medium   \n",
       "\n",
       "  Outlet_Location_Type        Outlet_Type  \n",
       "0               Tier 1  Supermarket Type1  \n",
       "1               Tier 2  Supermarket Type1  \n",
       "2               Tier 3      Grocery Store  \n",
       "3               Tier 2  Supermarket Type1  \n",
       "4               Tier 3  Supermarket Type3  "
      ]
     },
     "execution_count": 182,
     "metadata": {},
     "output_type": "execute_result"
    }
   ],
   "source": [
    "sales_test_df.head()"
   ]
  },
  {
   "cell_type": "markdown",
   "id": "enclosed-compatibility",
   "metadata": {},
   "source": [
    "## EDA"
   ]
  },
  {
   "cell_type": "code",
   "execution_count": 183,
   "id": "demonstrated-patent",
   "metadata": {},
   "outputs": [
    {
     "name": "stdout",
     "output_type": "stream",
     "text": [
      "<class 'pandas.core.frame.DataFrame'>\n",
      "RangeIndex: 5681 entries, 0 to 5680\n",
      "Data columns (total 11 columns):\n",
      " #   Column                     Non-Null Count  Dtype  \n",
      "---  ------                     --------------  -----  \n",
      " 0   Item_Identifier            5681 non-null   object \n",
      " 1   Item_Weight                4705 non-null   float64\n",
      " 2   Item_Fat_Content           5681 non-null   object \n",
      " 3   Item_Visibility            5681 non-null   float64\n",
      " 4   Item_Type                  5681 non-null   object \n",
      " 5   Item_MRP                   5681 non-null   float64\n",
      " 6   Outlet_Identifier          5681 non-null   object \n",
      " 7   Outlet_Establishment_Year  5681 non-null   int64  \n",
      " 8   Outlet_Size                4075 non-null   object \n",
      " 9   Outlet_Location_Type       5681 non-null   object \n",
      " 10  Outlet_Type                5681 non-null   object \n",
      "dtypes: float64(3), int64(1), object(7)\n",
      "memory usage: 488.3+ KB\n"
     ]
    }
   ],
   "source": [
    "sales_test_df.info()"
   ]
  },
  {
   "cell_type": "code",
   "execution_count": 184,
   "id": "grave-christopher",
   "metadata": {},
   "outputs": [
    {
     "data": {
      "text/plain": [
       "Item_Identifier                 0\n",
       "Item_Weight                  1463\n",
       "Item_Fat_Content                0\n",
       "Item_Visibility                 0\n",
       "Item_Type                       0\n",
       "Item_MRP                        0\n",
       "Outlet_Identifier               0\n",
       "Outlet_Establishment_Year       0\n",
       "Outlet_Size                  2410\n",
       "Outlet_Location_Type            0\n",
       "Outlet_Type                     0\n",
       "Item_Outlet_Sales               0\n",
       "dtype: int64"
      ]
     },
     "execution_count": 184,
     "metadata": {},
     "output_type": "execute_result"
    }
   ],
   "source": [
    "sales_train_df.isnull().sum()"
   ]
  },
  {
   "cell_type": "code",
   "execution_count": 185,
   "id": "fifteen-settle",
   "metadata": {},
   "outputs": [
    {
     "data": {
      "text/plain": [
       "Item_Identifier                 0\n",
       "Item_Weight                   976\n",
       "Item_Fat_Content                0\n",
       "Item_Visibility                 0\n",
       "Item_Type                       0\n",
       "Item_MRP                        0\n",
       "Outlet_Identifier               0\n",
       "Outlet_Establishment_Year       0\n",
       "Outlet_Size                  1606\n",
       "Outlet_Location_Type            0\n",
       "Outlet_Type                     0\n",
       "dtype: int64"
      ]
     },
     "execution_count": 185,
     "metadata": {},
     "output_type": "execute_result"
    }
   ],
   "source": [
    "sales_test_df.isnull().sum()"
   ]
  },
  {
   "cell_type": "markdown",
   "id": "timely-cholesterol",
   "metadata": {},
   "source": [
    "We can see that there are 1463 null values for Item_Weight column and 2410 null values for Outlet_Size column in the sales train data set and there are 976 null values for Item_Weight column and 1606 null values for Outlet_Size column in the sales test data set."
   ]
  },
  {
   "cell_type": "markdown",
   "id": "sonic-nursing",
   "metadata": {},
   "source": [
    "Since both the training set and the testing set have missing values, it is better if we combine both the train and test set into a single dataset and clean the data. Let us add a new column to both the data sets called Data_Purpose which can be set to 'train' for training data set and 'test' for testing data set and then concatenate both into a single set. Since the test set does not contain the 'Item_Outlet_Sales' column which is the target column, it will have null values once we concatenate it."
   ]
  },
  {
   "cell_type": "code",
   "execution_count": 186,
   "id": "employed-store",
   "metadata": {},
   "outputs": [],
   "source": [
    "sales_train_df['Data_Purpose'] = 'train'\n",
    "sales_test_df['Data_Purpose'] = 'test'\n",
    "sales_df = pd.concat([sales_train_df, sales_test_df], ignore_index=True)"
   ]
  },
  {
   "cell_type": "code",
   "execution_count": 187,
   "id": "opened-familiar",
   "metadata": {},
   "outputs": [
    {
     "data": {
      "text/plain": [
       "(8522, 13)"
      ]
     },
     "execution_count": 187,
     "metadata": {},
     "output_type": "execute_result"
    }
   ],
   "source": [
    "sales_train_df.shape"
   ]
  },
  {
   "cell_type": "code",
   "execution_count": 188,
   "id": "danish-assumption",
   "metadata": {},
   "outputs": [
    {
     "data": {
      "text/plain": [
       "(5681, 12)"
      ]
     },
     "execution_count": 188,
     "metadata": {},
     "output_type": "execute_result"
    }
   ],
   "source": [
    "sales_test_df.shape"
   ]
  },
  {
   "cell_type": "code",
   "execution_count": 189,
   "id": "banned-pilot",
   "metadata": {},
   "outputs": [
    {
     "data": {
      "text/plain": [
       "(14203, 13)"
      ]
     },
     "execution_count": 189,
     "metadata": {},
     "output_type": "execute_result"
    }
   ],
   "source": [
    "sales_df.shape"
   ]
  },
  {
   "cell_type": "code",
   "execution_count": 190,
   "id": "threaded-fancy",
   "metadata": {},
   "outputs": [
    {
     "name": "stdout",
     "output_type": "stream",
     "text": [
      "<class 'pandas.core.frame.DataFrame'>\n",
      "RangeIndex: 14203 entries, 0 to 14202\n",
      "Data columns (total 13 columns):\n",
      " #   Column                     Non-Null Count  Dtype  \n",
      "---  ------                     --------------  -----  \n",
      " 0   Item_Identifier            14203 non-null  object \n",
      " 1   Item_Weight                11764 non-null  float64\n",
      " 2   Item_Fat_Content           14203 non-null  object \n",
      " 3   Item_Visibility            14203 non-null  float64\n",
      " 4   Item_Type                  14203 non-null  object \n",
      " 5   Item_MRP                   14203 non-null  float64\n",
      " 6   Outlet_Identifier          14203 non-null  object \n",
      " 7   Outlet_Establishment_Year  14203 non-null  int64  \n",
      " 8   Outlet_Size                10187 non-null  object \n",
      " 9   Outlet_Location_Type       14203 non-null  object \n",
      " 10  Outlet_Type                14203 non-null  object \n",
      " 11  Item_Outlet_Sales          8522 non-null   float64\n",
      " 12  Data_Purpose               14203 non-null  object \n",
      "dtypes: float64(4), int64(1), object(8)\n",
      "memory usage: 1.4+ MB\n"
     ]
    }
   ],
   "source": [
    "sales_df.info()"
   ]
  },
  {
   "cell_type": "code",
   "execution_count": 191,
   "id": "worst-cincinnati",
   "metadata": {},
   "outputs": [
    {
     "data": {
      "text/plain": [
       "Item_Identifier                 0\n",
       "Item_Weight                  2439\n",
       "Item_Fat_Content                0\n",
       "Item_Visibility                 0\n",
       "Item_Type                       0\n",
       "Item_MRP                        0\n",
       "Outlet_Identifier               0\n",
       "Outlet_Establishment_Year       0\n",
       "Outlet_Size                  4016\n",
       "Outlet_Location_Type            0\n",
       "Outlet_Type                     0\n",
       "Item_Outlet_Sales            5681\n",
       "Data_Purpose                    0\n",
       "dtype: int64"
      ]
     },
     "execution_count": 191,
     "metadata": {},
     "output_type": "execute_result"
    }
   ],
   "source": [
    "sales_df.isnull().sum()"
   ]
  },
  {
   "cell_type": "markdown",
   "id": "accepted-mobility",
   "metadata": {},
   "source": [
    "The 'Item_Outlet_Sales column' has 5681 null values because that is from the test data. Now we observe that in all there are 2439 missing values from 'Item_Weight' feature and 4016 missing values from 'Outlet_Size' feature."
   ]
  },
  {
   "cell_type": "code",
   "execution_count": 192,
   "id": "twelve-aurora",
   "metadata": {},
   "outputs": [
    {
     "data": {
      "text/html": [
       "<div>\n",
       "<style scoped>\n",
       "    .dataframe tbody tr th:only-of-type {\n",
       "        vertical-align: middle;\n",
       "    }\n",
       "\n",
       "    .dataframe tbody tr th {\n",
       "        vertical-align: top;\n",
       "    }\n",
       "\n",
       "    .dataframe thead th {\n",
       "        text-align: right;\n",
       "    }\n",
       "</style>\n",
       "<table border=\"1\" class=\"dataframe\">\n",
       "  <thead>\n",
       "    <tr style=\"text-align: right;\">\n",
       "      <th></th>\n",
       "      <th>Item_Weight</th>\n",
       "      <th>Item_Visibility</th>\n",
       "      <th>Item_MRP</th>\n",
       "      <th>Outlet_Establishment_Year</th>\n",
       "      <th>Item_Outlet_Sales</th>\n",
       "    </tr>\n",
       "  </thead>\n",
       "  <tbody>\n",
       "    <tr>\n",
       "      <th>count</th>\n",
       "      <td>11764.000000</td>\n",
       "      <td>14203.000000</td>\n",
       "      <td>14203.000000</td>\n",
       "      <td>14203.000000</td>\n",
       "      <td>8522.000000</td>\n",
       "    </tr>\n",
       "    <tr>\n",
       "      <th>mean</th>\n",
       "      <td>12.792684</td>\n",
       "      <td>0.065954</td>\n",
       "      <td>141.009592</td>\n",
       "      <td>1997.830740</td>\n",
       "      <td>2181.455027</td>\n",
       "    </tr>\n",
       "    <tr>\n",
       "      <th>std</th>\n",
       "      <td>4.652663</td>\n",
       "      <td>0.051460</td>\n",
       "      <td>62.086688</td>\n",
       "      <td>8.371956</td>\n",
       "      <td>1706.530835</td>\n",
       "    </tr>\n",
       "    <tr>\n",
       "      <th>min</th>\n",
       "      <td>4.555000</td>\n",
       "      <td>0.000000</td>\n",
       "      <td>31.290000</td>\n",
       "      <td>1985.000000</td>\n",
       "      <td>33.290000</td>\n",
       "    </tr>\n",
       "    <tr>\n",
       "      <th>25%</th>\n",
       "      <td>8.710000</td>\n",
       "      <td>0.027035</td>\n",
       "      <td>94.027800</td>\n",
       "      <td>1987.000000</td>\n",
       "      <td>834.913200</td>\n",
       "    </tr>\n",
       "    <tr>\n",
       "      <th>50%</th>\n",
       "      <td>12.600000</td>\n",
       "      <td>0.054026</td>\n",
       "      <td>142.247000</td>\n",
       "      <td>1999.000000</td>\n",
       "      <td>1794.331000</td>\n",
       "    </tr>\n",
       "    <tr>\n",
       "      <th>75%</th>\n",
       "      <td>16.750000</td>\n",
       "      <td>0.094037</td>\n",
       "      <td>185.855600</td>\n",
       "      <td>2004.000000</td>\n",
       "      <td>3101.296400</td>\n",
       "    </tr>\n",
       "    <tr>\n",
       "      <th>max</th>\n",
       "      <td>21.350000</td>\n",
       "      <td>0.328391</td>\n",
       "      <td>266.888400</td>\n",
       "      <td>2009.000000</td>\n",
       "      <td>13086.964800</td>\n",
       "    </tr>\n",
       "  </tbody>\n",
       "</table>\n",
       "</div>"
      ],
      "text/plain": [
       "        Item_Weight  Item_Visibility      Item_MRP  Outlet_Establishment_Year  \\\n",
       "count  11764.000000     14203.000000  14203.000000               14203.000000   \n",
       "mean      12.792684         0.065954    141.009592                1997.830740   \n",
       "std        4.652663         0.051460     62.086688                   8.371956   \n",
       "min        4.555000         0.000000     31.290000                1985.000000   \n",
       "25%        8.710000         0.027035     94.027800                1987.000000   \n",
       "50%       12.600000         0.054026    142.247000                1999.000000   \n",
       "75%       16.750000         0.094037    185.855600                2004.000000   \n",
       "max       21.350000         0.328391    266.888400                2009.000000   \n",
       "\n",
       "       Item_Outlet_Sales  \n",
       "count        8522.000000  \n",
       "mean         2181.455027  \n",
       "std          1706.530835  \n",
       "min            33.290000  \n",
       "25%           834.913200  \n",
       "50%          1794.331000  \n",
       "75%          3101.296400  \n",
       "max         13086.964800  "
      ]
     },
     "execution_count": 192,
     "metadata": {},
     "output_type": "execute_result"
    }
   ],
   "source": [
    "sales_df.describe()"
   ]
  },
  {
   "cell_type": "code",
   "execution_count": 193,
   "id": "present-dividend",
   "metadata": {},
   "outputs": [
    {
     "data": {
      "text/plain": [
       "Text(0.5, 1.0, 'Item Visibility vs Item Outlet Sales')"
      ]
     },
     "execution_count": 193,
     "metadata": {},
     "output_type": "execute_result"
    },
    {
     "data": {
      "image/png": "[encoded data removed]",
      "text/plain": [
       "<Figure size 576x432 with 1 Axes>"
      ]
     },
     "metadata": {
      "needs_background": "light"
     },
     "output_type": "display_data"
    }
   ],
   "source": [
    "fig = plt.figure(figsize=(8,6))\n",
    "ax = fig.add_axes([0,0,1,1])\n",
    "plt.scatter(x=sales_df['Item_Visibility'], y=sales_df['Item_Outlet_Sales'])\n",
    "ax.set_xlabel('Item_Visibility')\n",
    "ax.set_ylabel('Item_Outlet_Sales')\n",
    "ax.set_title('Item Visibility vs Item Outlet Sales')"
   ]
  },
  {
   "cell_type": "markdown",
   "id": "least-textbook",
   "metadata": {},
   "source": [
    "We can observe that items with visibility of less than 0.2 have the most sales. But we can also observe that there are many items with visibility 0.0 which does not make any sense. \n",
    "\n",
    "Let us see the number of unique values for each column in the dataset."
   ]
  },
  {
   "cell_type": "code",
   "execution_count": 194,
   "id": "prepared-liquid",
   "metadata": {},
   "outputs": [
    {
     "data": {
      "text/plain": [
       "Item_Identifier               1559\n",
       "Item_Weight                    415\n",
       "Item_Fat_Content                 5\n",
       "Item_Visibility              13024\n",
       "Item_Type                       16\n",
       "Item_MRP                      8096\n",
       "Outlet_Identifier               10\n",
       "Outlet_Establishment_Year        9\n",
       "Outlet_Size                      3\n",
       "Outlet_Location_Type             3\n",
       "Outlet_Type                      4\n",
       "Item_Outlet_Sales             3493\n",
       "Data_Purpose                     2\n",
       "dtype: int64"
      ]
     },
     "execution_count": 194,
     "metadata": {},
     "output_type": "execute_result"
    }
   ],
   "source": [
    "sales_df.nunique()"
   ]
  },
  {
   "cell_type": "code",
   "execution_count": 195,
   "id": "sixth-samuel",
   "metadata": {},
   "outputs": [
    {
     "data": {
      "text/plain": [
       "<AxesSubplot:xlabel='Outlet_Identifier', ylabel='Item_Outlet_Sales'>"
      ]
     },
     "execution_count": 195,
     "metadata": {},
     "output_type": "execute_result"
    },
    {
     "data": {
      "image/png": "[encoded data removed]",
      "text/plain": [
       "<Figure size 576x432 with 1 Axes>"
      ]
     },
     "metadata": {
      "needs_background": "light"
     },
     "output_type": "display_data"
    }
   ],
   "source": [
    "plt.figure(figsize=(8,6))\n",
    "sns.set_style('whitegrid')\n",
    "sns.barplot(x='Outlet_Identifier', y='Item_Outlet_Sales', data=sales_df)"
   ]
  },
  {
   "cell_type": "markdown",
   "id": "after-bacon",
   "metadata": {},
   "source": [
    "We can observe here that the top sales are for OUT027 which has significant higher sales than the other Outlet identifiers and the bottom two are OUT010 & OUT019 with the least sales which are significantly less than the other Outlets."
   ]
  },
  {
   "cell_type": "code",
   "execution_count": 196,
   "id": "tight-persian",
   "metadata": {},
   "outputs": [
    {
     "data": {
      "text/plain": [
       "<AxesSubplot:xlabel='Outlet_Size', ylabel='Item_Outlet_Sales'>"
      ]
     },
     "execution_count": 196,
     "metadata": {},
     "output_type": "execute_result"
    },
    {
     "data": {
      "image/png": "[encoded data removed]",
      "text/plain": [
       "<Figure size 288x288 with 1 Axes>"
      ]
     },
     "metadata": {},
     "output_type": "display_data"
    }
   ],
   "source": [
    "plt.figure(figsize=(4,4))\n",
    "sns.set_style('whitegrid')\n",
    "sns.barplot(x='Outlet_Size', y='Item_Outlet_Sales', data=sales_df)"
   ]
  },
  {
   "cell_type": "markdown",
   "id": "vanilla-absence",
   "metadata": {},
   "source": [
    "Here we see that the medium sized outlet has the maximum sales."
   ]
  },
  {
   "cell_type": "code",
   "execution_count": 197,
   "id": "intended-admission",
   "metadata": {},
   "outputs": [
    {
     "data": {
      "text/plain": [
       "<AxesSubplot:xlabel='Outlet_Type', ylabel='Item_Outlet_Sales'>"
      ]
     },
     "execution_count": 197,
     "metadata": {},
     "output_type": "execute_result"
    },
    {
     "data": {
      "image/png": "[encoded data removed]",
      "text/plain": [
       "<Figure size 504x288 with 1 Axes>"
      ]
     },
     "metadata": {},
     "output_type": "display_data"
    }
   ],
   "source": [
    "plt.figure(figsize=(7,4))\n",
    "sns.set_style('whitegrid')\n",
    "sns.barplot(x='Outlet_Type', y='Item_Outlet_Sales', data=sales_df)"
   ]
  },
  {
   "cell_type": "markdown",
   "id": "opponent-raise",
   "metadata": {},
   "source": [
    "We can observe that Grocery Store type of Outlet has the least sales which is very less than any type of Supermarket."
   ]
  },
  {
   "cell_type": "code",
   "execution_count": 198,
   "id": "extreme-expense",
   "metadata": {},
   "outputs": [
    {
     "data": {
      "text/plain": [
       "<AxesSubplot:xlabel='Outlet_Location_Type', ylabel='Item_Outlet_Sales'>"
      ]
     },
     "execution_count": 198,
     "metadata": {},
     "output_type": "execute_result"
    },
    {
     "data": {
      "image/png": "[encoded data removed]",
      "text/plain": [
       "<Figure size 288x288 with 1 Axes>"
      ]
     },
     "metadata": {},
     "output_type": "display_data"
    }
   ],
   "source": [
    "plt.figure(figsize=(4,4))\n",
    "sns.set_style('whitegrid')\n",
    "sns.barplot(x='Outlet_Location_Type', y='Item_Outlet_Sales', data=sales_df)"
   ]
  },
  {
   "cell_type": "markdown",
   "id": "oriental-genius",
   "metadata": {},
   "source": [
    "The Outlet Location type of Tier 1 has lesser sales as compared to the other two tiers."
   ]
  },
  {
   "cell_type": "code",
   "execution_count": 199,
   "id": "dominant-leadership",
   "metadata": {},
   "outputs": [
    {
     "data": {
      "image/png": "[encoded data removed]",
      "text/plain": [
       "<Figure size 576x360 with 1 Axes>"
      ]
     },
     "metadata": {},
     "output_type": "display_data"
    }
   ],
   "source": [
    "plt.figure(figsize=(8,5))\n",
    "sns.set_style('whitegrid')\n",
    "sns.barplot(x='Item_Type', y='Item_Outlet_Sales', data=sales_df)\n",
    "plt.xticks(rotation=90);"
   ]
  },
  {
   "cell_type": "markdown",
   "id": "lasting-constitution",
   "metadata": {},
   "source": [
    "Starchy Foods have the maximum sales as compared to other item types."
   ]
  },
  {
   "cell_type": "code",
   "execution_count": 200,
   "id": "experienced-blake",
   "metadata": {},
   "outputs": [
    {
     "data": {
      "image/png": "[encoded data removed]",
      "text/plain": [
       "<Figure size 576x360 with 1 Axes>"
      ]
     },
     "metadata": {},
     "output_type": "display_data"
    }
   ],
   "source": [
    "plt.figure(figsize=(8,5))\n",
    "sns.set_style('whitegrid')\n",
    "sns.boxplot(x='Item_Type', y='Item_MRP', data=sales_df)\n",
    "plt.xticks(rotation=90);"
   ]
  },
  {
   "cell_type": "markdown",
   "id": "otherwise-relaxation",
   "metadata": {},
   "source": [
    "We do not see any outliers for any item type for the item's MRP range."
   ]
  },
  {
   "cell_type": "code",
   "execution_count": 201,
   "id": "intellectual-legend",
   "metadata": {},
   "outputs": [
    {
     "data": {
      "text/plain": [
       "<AxesSubplot:>"
      ]
     },
     "execution_count": 201,
     "metadata": {},
     "output_type": "execute_result"
    },
    {
     "data": {
      "image/png": "[encoded data removed]",
      "text/plain": [
       "<Figure size 432x288 with 2 Axes>"
      ]
     },
     "metadata": {},
     "output_type": "display_data"
    }
   ],
   "source": [
    "sns.heatmap(sales_df.corr(), annot=True)"
   ]
  },
  {
   "cell_type": "markdown",
   "id": "measured-adoption",
   "metadata": {},
   "source": [
    "If we try to see the correlation between the numerical features, we observe that the Item MRP is highly correlated to Item Outlet Sales."
   ]
  },
  {
   "cell_type": "code",
   "execution_count": 202,
   "id": "adverse-catalog",
   "metadata": {},
   "outputs": [
    {
     "data": {
      "text/plain": [
       "<AxesSubplot:>"
      ]
     },
     "execution_count": 202,
     "metadata": {},
     "output_type": "execute_result"
    },
    {
     "data": {
      "image/png": "[encoded data removed]",
      "text/plain": [
       "<Figure size 432x288 with 1 Axes>"
      ]
     },
     "metadata": {},
     "output_type": "display_data"
    }
   ],
   "source": [
    "sales_df['Item_MRP'].hist(bins=50, color='darkred')"
   ]
  },
  {
   "cell_type": "markdown",
   "id": "urban-lecture",
   "metadata": {},
   "source": [
    "## Data Cleaning\n",
    "\n",
    "Let us also see what kind of values Item_Fat_Content and Item_Visibility contains."
   ]
  },
  {
   "cell_type": "code",
   "execution_count": 203,
   "id": "formed-edward",
   "metadata": {},
   "outputs": [
    {
     "data": {
      "text/plain": [
       "Low Fat    8484\n",
       "Regular    4824\n",
       "LF          522\n",
       "reg         195\n",
       "low fat     178\n",
       "Name: Item_Fat_Content, dtype: int64"
      ]
     },
     "execution_count": 203,
     "metadata": {},
     "output_type": "execute_result"
    }
   ],
   "source": [
    "sales_df['Item_Fat_Content'].value_counts()"
   ]
  },
  {
   "cell_type": "code",
   "execution_count": 204,
   "id": "renewable-mississippi",
   "metadata": {},
   "outputs": [
    {
     "data": {
      "text/plain": [
       "0.000000    879\n",
       "0.076975      3\n",
       "0.077169      3\n",
       "0.076483      3\n",
       "0.076856      3\n",
       "           ... \n",
       "0.053178      1\n",
       "0.044503      1\n",
       "0.030933      1\n",
       "0.044767      1\n",
       "0.031007      1\n",
       "Name: Item_Visibility, Length: 13024, dtype: int64"
      ]
     },
     "execution_count": 204,
     "metadata": {},
     "output_type": "execute_result"
    }
   ],
   "source": [
    "sales_df['Item_Visibility'].value_counts()"
   ]
  },
  {
   "cell_type": "markdown",
   "id": "judicial-blind",
   "metadata": {},
   "source": [
    "- **Item_Fat_Content has mismatched factor levels.**\n",
    "- **Min(Item_visibility) = 0 in 879 rows which is practically possible. We should treat 0's as missing values.**\n",
    "- **We have already observed that there are 2439 missing values from 'Item_Weight' feature and 4016 missing values from 'Outlet_Size' feature.**"
   ]
  },
  {
   "cell_type": "code",
   "execution_count": 205,
   "id": "continuous-trace",
   "metadata": {},
   "outputs": [
    {
     "data": {
      "text/plain": [
       "Low Fat    9184\n",
       "Regular    5019\n",
       "Name: Item_Fat_Content, dtype: int64"
      ]
     },
     "execution_count": 205,
     "metadata": {},
     "output_type": "execute_result"
    }
   ],
   "source": [
    "Item_fat_content_map = {'Low Fat':'Low Fat','LF':'Low Fat','low fat':'Low Fat','Regular':'Regular','reg':'Regular'}\n",
    "sales_df['Item_Fat_Content'] = sales_df['Item_Fat_Content'].map(Item_fat_content_map)\n",
    "sales_df['Item_Fat_Content'].value_counts()"
   ]
  },
  {
   "cell_type": "markdown",
   "id": "homeless-conducting",
   "metadata": {},
   "source": [
    "We can fill the missing values for the Item_Weight column for each Item_Identifier with the mean value for that Item_Identifier."
   ]
  },
  {
   "cell_type": "code",
   "execution_count": 206,
   "id": "eastern-theme",
   "metadata": {},
   "outputs": [],
   "source": [
    "sales_df['Item_Weight'] = sales_df['Item_Weight'].fillna(sales_df.groupby('Item_Identifier')['Item_Weight'].transform('mean'))"
   ]
  },
  {
   "cell_type": "code",
   "execution_count": 207,
   "id": "fitting-insulin",
   "metadata": {},
   "outputs": [
    {
     "data": {
      "text/plain": [
       "Item_Identifier                 0\n",
       "Item_Weight                     0\n",
       "Item_Fat_Content                0\n",
       "Item_Visibility                 0\n",
       "Item_Type                       0\n",
       "Item_MRP                        0\n",
       "Outlet_Identifier               0\n",
       "Outlet_Establishment_Year       0\n",
       "Outlet_Size                  4016\n",
       "Outlet_Location_Type            0\n",
       "Outlet_Type                     0\n",
       "Item_Outlet_Sales            5681\n",
       "Data_Purpose                    0\n",
       "dtype: int64"
      ]
     },
     "execution_count": 207,
     "metadata": {},
     "output_type": "execute_result"
    }
   ],
   "source": [
    "sales_df.isnull().sum()"
   ]
  },
  {
   "cell_type": "markdown",
   "id": "curious-pricing",
   "metadata": {},
   "source": [
    "We need to check how to fill the missing values for the Outlet_Size column."
   ]
  },
  {
   "cell_type": "markdown",
   "id": "suburban-greene",
   "metadata": {},
   "source": [
    "Let us check for which of the Outlet_Identifier, the data for Outlet_Size is missing."
   ]
  },
  {
   "cell_type": "code",
   "execution_count": 208,
   "id": "illegal-brisbane",
   "metadata": {},
   "outputs": [
    {
     "data": {
      "text/plain": [
       "OUT045    1548\n",
       "OUT017    1543\n",
       "OUT010     925\n",
       "Name: Outlet_Identifier, dtype: int64"
      ]
     },
     "execution_count": 208,
     "metadata": {},
     "output_type": "execute_result"
    }
   ],
   "source": [
    "sales_df[sales_df['Outlet_Size'].isnull()==True]['Outlet_Identifier'].value_counts()"
   ]
  },
  {
   "cell_type": "markdown",
   "id": "fixed-helena",
   "metadata": {},
   "source": [
    "We see that there are 3 Outlet Identifiers which have null value for the Outlet Size. Let us check the other column values and see if there is any relationship between other columns and Outlet_Size column."
   ]
  },
  {
   "cell_type": "code",
   "execution_count": 209,
   "id": "duplicate-arbitration",
   "metadata": {},
   "outputs": [
    {
     "data": {
      "text/plain": [
       "Outlet_Location_Type  Outlet_Type      \n",
       "Tier 2                Supermarket Type1    1548\n",
       "dtype: int64"
      ]
     },
     "execution_count": 209,
     "metadata": {},
     "output_type": "execute_result"
    }
   ],
   "source": [
    "sales_df[sales_df['Outlet_Identifier']=='OUT045'][['Outlet_Location_Type','Outlet_Type']].value_counts()"
   ]
  },
  {
   "cell_type": "code",
   "execution_count": 210,
   "id": "regular-bulletin",
   "metadata": {},
   "outputs": [
    {
     "data": {
      "text/plain": [
       "Outlet_Location_Type  Outlet_Type      \n",
       "Tier 2                Supermarket Type1    1543\n",
       "dtype: int64"
      ]
     },
     "execution_count": 210,
     "metadata": {},
     "output_type": "execute_result"
    }
   ],
   "source": [
    "sales_df[sales_df['Outlet_Identifier']=='OUT017'][['Outlet_Location_Type','Outlet_Type']].value_counts()"
   ]
  },
  {
   "cell_type": "code",
   "execution_count": 211,
   "id": "naval-america",
   "metadata": {},
   "outputs": [
    {
     "data": {
      "text/plain": [
       "Outlet_Location_Type  Outlet_Type  \n",
       "Tier 3                Grocery Store    925\n",
       "dtype: int64"
      ]
     },
     "execution_count": 211,
     "metadata": {},
     "output_type": "execute_result"
    }
   ],
   "source": [
    "sales_df[sales_df['Outlet_Identifier']=='OUT010'][['Outlet_Location_Type','Outlet_Type']].value_counts()"
   ]
  },
  {
   "cell_type": "markdown",
   "id": "successful-great",
   "metadata": {},
   "source": [
    "We can clearly observe the relationship between the Outlet_Location_Type column, the Outlet_Type column to the Outlet_Identifier column. Let us check for the same Outlet_Location_Type and the Outlet_Type what are types of Outlet_Size."
   ]
  },
  {
   "cell_type": "code",
   "execution_count": 212,
   "id": "compact-pencil",
   "metadata": {},
   "outputs": [
    {
     "data": {
      "text/plain": [
       "Small    1550\n",
       "Name: Outlet_Size, dtype: int64"
      ]
     },
     "execution_count": 212,
     "metadata": {},
     "output_type": "execute_result"
    }
   ],
   "source": [
    "sales_df[(sales_df['Outlet_Location_Type']=='Tier 2') & (sales_df['Outlet_Type']=='Supermarket Type1')]['Outlet_Size'].value_counts()"
   ]
  },
  {
   "cell_type": "code",
   "execution_count": 213,
   "id": "collected-intervention",
   "metadata": {},
   "outputs": [
    {
     "data": {
      "text/plain": [
       "Series([], Name: Outlet_Size, dtype: int64)"
      ]
     },
     "execution_count": 213,
     "metadata": {},
     "output_type": "execute_result"
    }
   ],
   "source": [
    "sales_df[(sales_df['Outlet_Location_Type']=='Tier 3') & (sales_df['Outlet_Type']=='Grocery Store')]['Outlet_Size'].value_counts()"
   ]
  },
  {
   "cell_type": "code",
   "execution_count": 214,
   "id": "plastic-personal",
   "metadata": {},
   "outputs": [
    {
     "data": {
      "text/plain": [
       "Outlet_Type        Outlet_Size\n",
       "Supermarket Type1  Medium         1550\n",
       "                   Small          1549\n",
       "Grocery Store      Small           880\n",
       "dtype: int64"
      ]
     },
     "execution_count": 214,
     "metadata": {},
     "output_type": "execute_result"
    }
   ],
   "source": [
    "sales_df[sales_df['Outlet_Location_Type']=='Tier 1'][['Outlet_Type','Outlet_Size']].value_counts()"
   ]
  },
  {
   "cell_type": "code",
   "execution_count": 215,
   "id": "resistant-budget",
   "metadata": {},
   "outputs": [
    {
     "data": {
      "text/plain": [
       "Outlet_Type        Outlet_Size\n",
       "Supermarket Type1  Small          1550\n",
       "dtype: int64"
      ]
     },
     "execution_count": 215,
     "metadata": {},
     "output_type": "execute_result"
    }
   ],
   "source": [
    "sales_df[sales_df['Outlet_Location_Type']=='Tier 2'][['Outlet_Type','Outlet_Size']].value_counts()"
   ]
  },
  {
   "cell_type": "code",
   "execution_count": 216,
   "id": "welcome-tongue",
   "metadata": {},
   "outputs": [
    {
     "data": {
      "text/plain": [
       "Outlet_Type        Outlet_Size\n",
       "Supermarket Type3  Medium         1559\n",
       "Supermarket Type1  High           1553\n",
       "Supermarket Type2  Medium         1546\n",
       "dtype: int64"
      ]
     },
     "execution_count": 216,
     "metadata": {},
     "output_type": "execute_result"
    }
   ],
   "source": [
    "sales_df[sales_df['Outlet_Location_Type']=='Tier 3'][['Outlet_Type','Outlet_Size']].value_counts()"
   ]
  },
  {
   "cell_type": "markdown",
   "id": "resident-slope",
   "metadata": {},
   "source": [
    "From this we observe that the Grocery Store type of Outlet_Type has always Outlet_Size of small. So we can fill the null values in the Outlet_Size column for OUT010 Outlet_Identifier with 'Small'."
   ]
  },
  {
   "cell_type": "code",
   "execution_count": 217,
   "id": "duplicate-grace",
   "metadata": {},
   "outputs": [],
   "source": [
    "grocery_map = {'Grocery Store':'Small'}\n",
    "grocery_sales_df = sales_df['Outlet_Type'].map(grocery_map)\n",
    "sales_df['Outlet_Size'] = sales_df['Outlet_Size'].combine_first(grocery_sales_df)"
   ]
  },
  {
   "cell_type": "code",
   "execution_count": 218,
   "id": "applicable-fence",
   "metadata": {},
   "outputs": [
    {
     "data": {
      "text/plain": [
       "Small    925\n",
       "Name: Outlet_Size, dtype: int64"
      ]
     },
     "execution_count": 218,
     "metadata": {},
     "output_type": "execute_result"
    }
   ],
   "source": [
    "sales_df[sales_df['Outlet_Identifier']=='OUT010']['Outlet_Size'].value_counts()"
   ]
  },
  {
   "cell_type": "markdown",
   "id": "manual-culture",
   "metadata": {},
   "source": [
    "We have seen that when the Outlet_Type is Supermarket Type1 and the Outlet_Location_Type is Tier2 then the Outlet_Size is Small for the outlets which do not have null values. Let us see the dependency of Outlet_Size, Outlet_Location_Type and Outlet_Type."
   ]
  },
  {
   "cell_type": "code",
   "execution_count": 219,
   "id": "whole-bahrain",
   "metadata": {},
   "outputs": [
    {
     "data": {
      "text/html": [
       "<div>\n",
       "<style scoped>\n",
       "    .dataframe tbody tr th:only-of-type {\n",
       "        vertical-align: middle;\n",
       "    }\n",
       "\n",
       "    .dataframe tbody tr th {\n",
       "        vertical-align: top;\n",
       "    }\n",
       "\n",
       "    .dataframe thead th {\n",
       "        text-align: right;\n",
       "    }\n",
       "</style>\n",
       "<table border=\"1\" class=\"dataframe\">\n",
       "  <thead>\n",
       "    <tr style=\"text-align: right;\">\n",
       "      <th>Outlet_Location_Type</th>\n",
       "      <th>Tier 1</th>\n",
       "      <th>Tier 2</th>\n",
       "      <th>Tier 3</th>\n",
       "    </tr>\n",
       "    <tr>\n",
       "      <th>Outlet_Size</th>\n",
       "      <th></th>\n",
       "      <th></th>\n",
       "      <th></th>\n",
       "    </tr>\n",
       "  </thead>\n",
       "  <tbody>\n",
       "    <tr>\n",
       "      <th>High</th>\n",
       "      <td>0</td>\n",
       "      <td>0</td>\n",
       "      <td>1553</td>\n",
       "    </tr>\n",
       "    <tr>\n",
       "      <th>Medium</th>\n",
       "      <td>1550</td>\n",
       "      <td>0</td>\n",
       "      <td>3105</td>\n",
       "    </tr>\n",
       "    <tr>\n",
       "      <th>Small</th>\n",
       "      <td>2429</td>\n",
       "      <td>1550</td>\n",
       "      <td>925</td>\n",
       "    </tr>\n",
       "  </tbody>\n",
       "</table>\n",
       "</div>"
      ],
      "text/plain": [
       "Outlet_Location_Type  Tier 1  Tier 2  Tier 3\n",
       "Outlet_Size                                 \n",
       "High                       0       0    1553\n",
       "Medium                  1550       0    3105\n",
       "Small                   2429    1550     925"
      ]
     },
     "execution_count": 219,
     "metadata": {},
     "output_type": "execute_result"
    }
   ],
   "source": [
    "outlet_crosstab_loc = pd.crosstab(sales_df['Outlet_Size'], sales_df['Outlet_Location_Type'])\n",
    "outlet_crosstab_loc"
   ]
  },
  {
   "cell_type": "code",
   "execution_count": 220,
   "id": "coral-tennessee",
   "metadata": {},
   "outputs": [
    {
     "data": {
      "text/html": [
       "<div>\n",
       "<style scoped>\n",
       "    .dataframe tbody tr th:only-of-type {\n",
       "        vertical-align: middle;\n",
       "    }\n",
       "\n",
       "    .dataframe tbody tr th {\n",
       "        vertical-align: top;\n",
       "    }\n",
       "\n",
       "    .dataframe thead th {\n",
       "        text-align: right;\n",
       "    }\n",
       "</style>\n",
       "<table border=\"1\" class=\"dataframe\">\n",
       "  <thead>\n",
       "    <tr style=\"text-align: right;\">\n",
       "      <th>Outlet_Location_Type</th>\n",
       "      <th>Tier 1</th>\n",
       "      <th>Tier 2</th>\n",
       "      <th>Tier 3</th>\n",
       "    </tr>\n",
       "    <tr>\n",
       "      <th>Outlet_Type</th>\n",
       "      <th></th>\n",
       "      <th></th>\n",
       "      <th></th>\n",
       "    </tr>\n",
       "  </thead>\n",
       "  <tbody>\n",
       "    <tr>\n",
       "      <th>Grocery Store</th>\n",
       "      <td>880</td>\n",
       "      <td>0</td>\n",
       "      <td>925</td>\n",
       "    </tr>\n",
       "    <tr>\n",
       "      <th>Supermarket Type1</th>\n",
       "      <td>3099</td>\n",
       "      <td>4641</td>\n",
       "      <td>1553</td>\n",
       "    </tr>\n",
       "    <tr>\n",
       "      <th>Supermarket Type2</th>\n",
       "      <td>0</td>\n",
       "      <td>0</td>\n",
       "      <td>1546</td>\n",
       "    </tr>\n",
       "    <tr>\n",
       "      <th>Supermarket Type3</th>\n",
       "      <td>0</td>\n",
       "      <td>0</td>\n",
       "      <td>1559</td>\n",
       "    </tr>\n",
       "  </tbody>\n",
       "</table>\n",
       "</div>"
      ],
      "text/plain": [
       "Outlet_Location_Type  Tier 1  Tier 2  Tier 3\n",
       "Outlet_Type                                 \n",
       "Grocery Store            880       0     925\n",
       "Supermarket Type1       3099    4641    1553\n",
       "Supermarket Type2          0       0    1546\n",
       "Supermarket Type3          0       0    1559"
      ]
     },
     "execution_count": 220,
     "metadata": {},
     "output_type": "execute_result"
    }
   ],
   "source": [
    "outlet_crosstab_type = pd.crosstab(sales_df['Outlet_Type'], sales_df['Outlet_Location_Type'])\n",
    "outlet_crosstab_type"
   ]
  },
  {
   "cell_type": "markdown",
   "id": "paperback-puzzle",
   "metadata": {},
   "source": [
    "Let us now map the OUT045 and OUT017 Outlet_Identifiers with the Outlet_Size of 'Small'."
   ]
  },
  {
   "cell_type": "code",
   "execution_count": 221,
   "id": "sound-gentleman",
   "metadata": {},
   "outputs": [],
   "source": [
    "outletid_map = {'OUT045':'Small','OUT017':'Small'}\n",
    "Outletid_df = sales_df['Outlet_Identifier'].map(outletid_map)\n",
    "sales_df['Outlet_Size'] = sales_df['Outlet_Size'].combine_first(Outletid_df)"
   ]
  },
  {
   "cell_type": "code",
   "execution_count": 222,
   "id": "simplified-demographic",
   "metadata": {},
   "outputs": [
    {
     "data": {
      "text/plain": [
       "Small    1548\n",
       "Name: Outlet_Size, dtype: int64"
      ]
     },
     "execution_count": 222,
     "metadata": {},
     "output_type": "execute_result"
    }
   ],
   "source": [
    "sales_df[sales_df['Outlet_Identifier']=='OUT045']['Outlet_Size'].value_counts()"
   ]
  },
  {
   "cell_type": "code",
   "execution_count": 223,
   "id": "brutal-collective",
   "metadata": {},
   "outputs": [
    {
     "data": {
      "text/plain": [
       "Small    1543\n",
       "Name: Outlet_Size, dtype: int64"
      ]
     },
     "execution_count": 223,
     "metadata": {},
     "output_type": "execute_result"
    }
   ],
   "source": [
    "sales_df[sales_df['Outlet_Identifier']=='OUT017']['Outlet_Size'].value_counts()"
   ]
  },
  {
   "cell_type": "code",
   "execution_count": 224,
   "id": "driven-traffic",
   "metadata": {},
   "outputs": [
    {
     "data": {
      "text/plain": [
       "Item_Identifier                 0\n",
       "Item_Weight                     0\n",
       "Item_Fat_Content                0\n",
       "Item_Visibility                 0\n",
       "Item_Type                       0\n",
       "Item_MRP                        0\n",
       "Outlet_Identifier               0\n",
       "Outlet_Establishment_Year       0\n",
       "Outlet_Size                     0\n",
       "Outlet_Location_Type            0\n",
       "Outlet_Type                     0\n",
       "Item_Outlet_Sales            5681\n",
       "Data_Purpose                    0\n",
       "dtype: int64"
      ]
     },
     "execution_count": 224,
     "metadata": {},
     "output_type": "execute_result"
    }
   ],
   "source": [
    "sales_df.isnull().sum()"
   ]
  },
  {
   "cell_type": "markdown",
   "id": "geographic-maple",
   "metadata": {},
   "source": [
    "Now we have removed all the null values in the sales_df features. We still need to handle the 0.0 values for the Item_Visibility feature. We can handle this by calculating the mean of the Item_Visibility and fill the mean value in the place of 0.0 values."
   ]
  },
  {
   "cell_type": "code",
   "execution_count": 228,
   "id": "published-frontier",
   "metadata": {},
   "outputs": [],
   "source": [
    "sales_df['Item_Visibility'].replace(to_replace=0.000000,value=np.NaN,inplace=True)"
   ]
  },
  {
   "cell_type": "code",
   "execution_count": 229,
   "id": "oriental-journey",
   "metadata": {},
   "outputs": [
    {
     "data": {
      "text/plain": [
       "879"
      ]
     },
     "execution_count": 229,
     "metadata": {},
     "output_type": "execute_result"
    }
   ],
   "source": [
    "sales_df['Item_Visibility'].isnull().sum()"
   ]
  },
  {
   "cell_type": "code",
   "execution_count": 230,
   "id": "alive-thousand",
   "metadata": {},
   "outputs": [],
   "source": [
    "sales_df['Item_Visibility'] = sales_df['Item_Visibility'].fillna(sales_df.groupby('Item_Identifier')['Item_Visibility'].transform('mean'))"
   ]
  },
  {
   "cell_type": "code",
   "execution_count": 232,
   "id": "theoretical-copying",
   "metadata": {},
   "outputs": [
    {
     "data": {
      "text/plain": [
       "0"
      ]
     },
     "execution_count": 232,
     "metadata": {},
     "output_type": "execute_result"
    }
   ],
   "source": [
    "sales_df['Item_Visibility'].isnull().sum()"
   ]
  },
  {
   "cell_type": "code",
   "execution_count": null,
   "id": "serial-nightlife",
   "metadata": {},
   "outputs": [],
   "source": []
  }
 ],
 "metadata": {
  "kernelspec": {
   "display_name": "Python 3",
   "language": "python",
   "name": "python3"
  },
  "language_info": {
   "codemirror_mode": {
    "name": "ipython",
    "version": 3
   },
   "file_extension": ".py",
   "mimetype": "text/x-python",
   "name": "python",
   "nbconvert_exporter": "python",
   "pygments_lexer": "ipython3",
   "version": "3.8.8"
  }
 },
 "nbformat": 4,
 "nbformat_minor": 5
}
